{
 "cells": [
  {
   "cell_type": "markdown",
   "metadata": {},
   "source": [
    "# Lab 1: Introduction to Genomics"
   ]
  },
  {
   "cell_type": "markdown",
   "metadata": {},
   "source": [
    "### Name: Shamith Achanta (shamith2)"
   ]
  },
  {
   "cell_type": "markdown",
   "metadata": {},
   "source": [
    "### Due March 11, 2021 11:59 PM"
   ]
  },
  {
   "cell_type": "markdown",
   "metadata": {},
   "source": [
    "Lab 1 contains an introductory exploration of genomic data.\n",
    "\n",
    "## Important Instructions - \n",
    "\n",
    "1. You are not allowed to use any in-built libraries for processing DNA sequencing data files\n",
    "2. Please implement all the *graded functions* in main.py file. Do not change function names in main.py.\n",
    "3. Please read the description of every graded function very carefully. The description clearly states what is the expectation of each graded function. \n",
    "4. After some graded functions, there is a cell which you can run and see if the expected output matches the output you are getting. \n",
    "5. The expected output provided is just a way for you to assess the correctness of your code. The code will be tested on several other cases as well."
   ]
  },
  {
   "cell_type": "markdown",
   "metadata": {},
   "source": [
    "#### Preamble (Don't change this)"
   ]
  },
  {
   "cell_type": "code",
   "execution_count": 1,
   "metadata": {},
   "outputs": [],
   "source": [
    "import random\n",
    "import matplotlib.pyplot as plt\n",
    "import seaborn as sns"
   ]
  },
  {
   "cell_type": "markdown",
   "metadata": {},
   "source": [
    "## Exploring an Illumina *E. coli* dataset"
   ]
  },
  {
   "cell_type": "markdown",
   "metadata": {},
   "source": [
    "First, let's look at the data in the file ``ecoli.fastq``.\n",
    "It contains reads generated using an Illumina sequencing machine from the *E. coli* genome."
   ]
  },
  {
   "cell_type": "code",
   "execution_count": 2,
   "metadata": {},
   "outputs": [],
   "source": [
    "#reading Illumina fastq data\n",
    "\n",
    "reads=\"\"\n",
    "with open(\"ecoli.fastq\") as file:\n",
    "    reads=file.read()"
   ]
  },
  {
   "cell_type": "markdown",
   "metadata": {},
   "source": [
    "FASTQ is a standard file format for genomic data. See the wikipedia [article](https://en.wikipedia.org/wiki/FASTQ_format).\n",
    "Let's look at the first 1000 characters:"
   ]
  },
  {
   "cell_type": "code",
   "execution_count": 3,
   "metadata": {},
   "outputs": [
    {
     "name": "stdout",
     "output_type": "stream",
     "text": [
      "@HISEQ03:379:C2WP8ACXX:7:1101:4288:2189 1:N:0:ACTTGA\n",
      "TATTCAATTCAGACTACAGAGTGGGCGATTTTAATCTATGGACTGGTGATGATCTTCTTTTTATACATGTATGTTTGCTTCGCGTCGGCGGTTTATATCCCGGAGCTTTGGCCAACGCATTTACGCCTGCGCGGTTCGGGTTTCGTTAAT\n",
      "+\n",
      "CCCFFFFFHHHHHJJJJJJGIEFHJJJHIJJJJJJJJJJJJGHGJJFCEEGGIIHIIJJJJJIIIIIJJIJJJHHHFHHHFFFDDDDDDDD>>BCDEECDDDDBDDDDDCCDCDDDDDBB@DCDDDDDDDDDDDBDBBBB2<<>??CBDD\n",
      "@HISEQ03:379:C2WP8ACXX:7:1101:4288:2189 2:N:0:ACTTGA\n",
      "CACCGTGATCGACCCATAATGTGTTAATAATGCCGCAACGCCATAGGGCGTGAAGACTGCGACGATCCGTCCGACGGCATTAACGAAACCCGAACCGCGCAGGCGTAAATGCGTTGGCCAAAGCTCCGGGATATAAACCGCCGACGCGAA\n",
      "+\n",
      "CCCFFFFFHHHHHJJJJJJJJHHHIJJJJJIIJJJJIJJJJJIJIJJJJHFDFFFFEEEEDDDDDDDDDDDDDDDDDDDDDDDDDDDDDDDDDBDBDDDDBDDDDBBDD@DDDBBDDDDDDCDCCDDDDDB>CCDDED@BDDD9<<BB79\n",
      "@HISEQ03:379:C2WP8ACXX:7:1101:4591:2228 1:N:0:ACTTGA\n",
      "AATTAAAAGACACCCAGCAGTTACAAAAGTGCGCTGATCGTCTTGCCCAGAGTGCGCAGGATTTTCGTCTGCAACTCGGTGAGCCAGGTTATCGCGGTAACCTGCGTGAGCTGTTAGCTAATCCGCAAATTCAGCGGGCATTTTTACTGC\n",
      "+\n",
      "@@@=BDDD???ACCF?HIBD<FAHIDDHE@E@G8:66?9DFHD7F8=F3===).75;@EH=?3;);>A=@?(>AC:><?,\n"
     ]
    }
   ],
   "source": [
    "print(reads[:1000])"
   ]
  },
  {
   "cell_type": "markdown",
   "metadata": {},
   "source": [
    "Every block of four lines corresponds to one read:\n",
    "1. Line 1 (starting with @) is a read ID\n",
    "2. Line 2 is the DNA sequence\n",
    "3. Line 3 usually only has a + sign\n",
    "4. Line 4 has the same length as the DNA sequence. Each characters encodes the quality (or the reliability) of the corresponding symbol in the DNA sequence"
   ]
  },
  {
   "cell_type": "code",
   "execution_count": 4,
   "metadata": {},
   "outputs": [],
   "source": [
    "%run main.py"
   ]
  },
  {
   "cell_type": "markdown",
   "metadata": {},
   "source": [
    "The following line creates an object from the class in *main.py*. **Do not change the class name and function headers!**"
   ]
  },
  {
   "cell_type": "code",
   "execution_count": 5,
   "metadata": {},
   "outputs": [],
   "source": [
    "module = Lab1()"
   ]
  },
  {
   "cell_type": "markdown",
   "metadata": {},
   "source": [
    "## Graded function 1: parse_reads_illumina(reads) (10 marks)\n",
    "\n",
    "Purpose - To parse the input read file and get a list of DNA reads.\n",
    "\n",
    "Input - a string (``reads``) which contains the entire reads file. You should begin by first obtaining individual lines of the file. Each DNA read corresponds to the second line of each block of four lines.\n",
    "\n",
    "Output - a list of DNA reads\n",
    "\n",
    "#### Example Output Format - ['ACGTGGGTAAACC', 'ACGTGGGAACC', 'GTGGGTAAACC']"
   ]
  },
  {
   "cell_type": "code",
   "execution_count": null,
   "metadata": {},
   "outputs": [],
   "source": [
    "dna_reads_illumina=module.parse_reads_illumina(reads)\n",
    "\n",
    "reads.splitlines('@')\n",
    "\n",
    "print(len(dna_reads_illumina))\n",
    "print(dna_reads_illumina[0]==\"TATTCAATTCAGACTACAGAGTGGGCGATTTTAATCTATGGACTGGTGATGATCTTCTTTTTATACATGTATGTTTGCTTCGCGTCGGCGGTTTATATCCCGGAGCTTTGGCCAACGCATTTACGCCTGCGCGGTTCGGGTTTCGTTAAT\")\n",
    "print(dna_reads_illumina[1]==\"CACCGTGATCGACCCATAATGTGTTAATAATGCCGCAACGCCATAGGGCGTGAAGACTGCGACGATCCGTCCGACGGCATTAACGAAACCCGAACCGCGCAGGCGTAAATGCGTTGGCCAAAGCTCCGGGATATAAACCGCCGACGCGAA\")"
   ]
  },
  {
   "cell_type": "markdown",
   "metadata": {},
   "source": [
    "### Expected Output - \n",
    "\n",
    "644022\n",
    "\n",
    "True\n",
    "\n",
    "True"
   ]
  },
  {
   "cell_type": "markdown",
   "metadata": {},
   "source": [
    "## Graded Function 2: unique_lengths(dna_reads) (10 marks)\n",
    "\n",
    "Purpose - To return a set of all read lengths among all the DNA reads\n",
    "\n",
    "Input - list of DNA reads\n",
    "\n",
    "Output - set which contains different read lengths\n",
    "\n",
    "#### Example Output Format - {123,156,167}"
   ]
  },
  {
   "cell_type": "code",
   "execution_count": null,
   "metadata": {},
   "outputs": [],
   "source": [
    "counts_illumina=module.unique_lengths(dna_reads_illumina)\n",
    "print(counts_illumina)"
   ]
  },
  {
   "cell_type": "markdown",
   "metadata": {},
   "source": [
    "Next we will look into the content of the actual reads. Are A, C, G, and T the only characters in the reads?"
   ]
  },
  {
   "cell_type": "markdown",
   "metadata": {},
   "source": [
    "## Graded Function 3 : check_impurity(dna_reads) (10 marks)\n",
    "\n",
    "Purpose - To check if reads have any characters apart from the 4 defined above.\n",
    "\n",
    "Input - list of DNA reads.\n",
    "\n",
    "Output - you should output a list of all reads which contain any non-{A,C,G,T} characters and a set containing all the additional characters encountered.\n",
    "\n",
    "#### Example Output Format - \n",
    "\n",
    "List of reads with impurities - ['ACGTGGGBAAACC', 'ACDDGGGAACC', 'GTGGGTAABDC']\n",
    "\n",
    "Set with additional characters - {'B','D'}"
   ]
  },
  {
   "cell_type": "code",
   "execution_count": null,
   "metadata": {},
   "outputs": [],
   "source": [
    "impure_reads_illumina,impure_chars_illumina=module.check_impurity(dna_reads_illumina)\n",
    "print(len(impure_reads_illumina))\n",
    "print(impure_chars_illumina)"
   ]
  },
  {
   "cell_type": "markdown",
   "metadata": {},
   "source": [
    "The symbol N is used to represent undetermined bases (i.e., bases where the sequencing machine failed to obtain a proper reading)"
   ]
  },
  {
   "cell_type": "markdown",
   "metadata": {},
   "source": [
    "## Graded Function 4 : get_read_counts(dna_reads) (10 marks)\n",
    "\n",
    "Purpose - To compute the number of times each read occurs in the entire collections of reads.\n",
    "\n",
    "Input - list of DNA reads\n",
    "\n",
    "Output - you should output a dictionary where the read is the key and the number of times it appears is the value. \n",
    "\n",
    "#### Example Output Format - {'ACGTGGGTAAACC' : 15, 'ACGTGGGAACC' : 10, 'GTGGGTAAACC' : 5}"
   ]
  },
  {
   "cell_type": "code",
   "execution_count": null,
   "metadata": {},
   "outputs": [],
   "source": [
    "reads_counts_illumina=module.get_read_counts(dna_reads_illumina)\n",
    "print(sorted(list(reads_counts_illumina.values()),reverse=True)[:5])\n",
    "print(len(reads_counts_illumina.keys()))"
   ]
  },
  {
   "cell_type": "markdown",
   "metadata": {},
   "source": [
    "### Plotting read frequencies\n",
    "\n",
    "We will now use the count dictionary from above to generate a histogram of counts vs no. of reads with that count(log scale)"
   ]
  },
  {
   "cell_type": "code",
   "execution_count": null,
   "metadata": {},
   "outputs": [],
   "source": [
    "def plot_frequency_histogram(read_counts) :\n",
    "    plt.yscale('log', nonpositive='clip')    \n",
    "    plt.hist([read_counts[key] for key in read_counts],bins=[i for i in range(13)])\n",
    "    plt.xlabel(\"count values\")\n",
    "    plt.ylabel(\"no. of reads\")\n",
    "    plt.show()"
   ]
  },
  {
   "cell_type": "code",
   "execution_count": null,
   "metadata": {},
   "outputs": [],
   "source": [
    "plot_frequency_histogram(reads_counts_illumina)"
   ]
  },
  {
   "cell_type": "markdown",
   "metadata": {},
   "source": [
    "Notice that most reads appear only once, and it is rare for the same read to appear many times.\n",
    "This is expected, since the reads are drawn roughly uniformly at random from the whole genome."
   ]
  },
  {
   "cell_type": "markdown",
   "metadata": {},
   "source": [
    "## Exploring a PacBio *E. coli* dataset\n",
    "\n",
    "Next, we will look into a read dataset obtained using a Pacific Biosciences (PacBio) machine, from the same *E. coli* genome."
   ]
  },
  {
   "cell_type": "code",
   "execution_count": null,
   "metadata": {},
   "outputs": [],
   "source": [
    "#reading PacBio data\n",
    "reads_pac=\"\"\n",
    "with open(\"ecoli_pac-bio.fasta\") as file :\n",
    "    reads_pac=file.read()"
   ]
  },
  {
   "cell_type": "markdown",
   "metadata": {},
   "source": [
    "As in the case of the Illumina dataset, let's look at the beginning of the file:"
   ]
  },
  {
   "cell_type": "code",
   "execution_count": null,
   "metadata": {},
   "outputs": [],
   "source": [
    "print(reads_pac[:2000])"
   ]
  },
  {
   "cell_type": "markdown",
   "metadata": {},
   "source": [
    "Unlike the Illumina file, which was in the FASTQ format, this one is in the FASTA format.\n",
    "The FASTA format is simpler.\n",
    "Each line starting with a '>' contains the read ID.\n",
    "After that, many lines may follow, with the content of a single read."
   ]
  },
  {
   "cell_type": "markdown",
   "metadata": {},
   "source": [
    "## Graded Function 5: parse_reads_pac(reads) (10 marks)\n",
    "\n",
    "Purpose - To parse the input read file and obtain a list of DNA reads.\n",
    "\n",
    "Input - a string which contains the entire PacBio reads file. You should begin by first getting individual lines of the file. Every two reads are separated by a line which begins with '>'. Note that reads can span across several lines in this case as opposed to single line reads in the Illumina file.\n",
    "\n",
    "Output - a list of DNA reads\n",
    "\n",
    "#### Example Output Format - ['ACGTGGGTAAACC', 'ACGTGGGAACC', 'GTGGGTAAACC']"
   ]
  },
  {
   "cell_type": "code",
   "execution_count": null,
   "metadata": {
    "scrolled": true
   },
   "outputs": [],
   "source": [
    "dna_reads_pac=module.parse_reads_pac(reads_pac)\n",
    "print(len(dna_reads_pac))\n",
    "for i in range(10,15) :\n",
    "    print(len(dna_reads_pac[i]))"
   ]
  },
  {
   "cell_type": "markdown",
   "metadata": {},
   "source": [
    "### Expected Output - \n",
    "\n",
    "1004\n",
    "\n",
    "19944\n",
    "\n",
    "21731\n",
    "\n",
    "21133\n",
    "\n",
    "13502\n",
    "\n",
    "8134"
   ]
  },
  {
   "cell_type": "markdown",
   "metadata": {},
   "source": [
    "Notice that, unlike the Illumina dataset, the PacBio data has reads of very different lengths, and some of the reads are very long."
   ]
  },
  {
   "cell_type": "markdown",
   "metadata": {},
   "source": [
    "## Plotting the distribution of read lengths"
   ]
  },
  {
   "cell_type": "code",
   "execution_count": null,
   "metadata": {},
   "outputs": [],
   "source": [
    "#getting distribution of length of reads\n",
    "lengths_pac=[]\n",
    "for read in dna_reads_pac :\n",
    "    lengths_pac.append(len(read))"
   ]
  },
  {
   "cell_type": "code",
   "execution_count": null,
   "metadata": {},
   "outputs": [],
   "source": [
    "plt.hist(lengths_pac)\n",
    "plt.xlabel(\"length of read\")\n",
    "plt.ylabel(\"no. of reads\")\n",
    "plt.show()"
   ]
  },
  {
   "cell_type": "markdown",
   "metadata": {},
   "source": [
    "## Checking for impurity symbols\n",
    "\n",
    "We will now check if the PacBio dataset has any reads that contain any symbols apart from {A,C,G,T}"
   ]
  },
  {
   "cell_type": "code",
   "execution_count": null,
   "metadata": {},
   "outputs": [],
   "source": [
    "impure_reads_pac,impure_chars_pac=module.check_impurity(dna_reads_pac)"
   ]
  },
  {
   "cell_type": "code",
   "execution_count": null,
   "metadata": {},
   "outputs": [],
   "source": [
    "print(len(impure_reads_pac))\n",
    "impure_chars_pac"
   ]
  }
 ],
 "metadata": {
  "kernelspec": {
   "display_name": "Python 3",
   "language": "python",
   "name": "python3"
  },
  "language_info": {
   "codemirror_mode": {
    "name": "ipython",
    "version": 3
   },
   "file_extension": ".py",
   "mimetype": "text/x-python",
   "name": "python",
   "nbconvert_exporter": "python",
   "pygments_lexer": "ipython3",
   "version": "3.7.9"
  }
 },
 "nbformat": 4,
 "nbformat_minor": 2
}
